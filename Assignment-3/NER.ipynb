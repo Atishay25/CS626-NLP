{
  "nbformat": 4,
  "nbformat_minor": 0,
  "metadata": {
    "colab": {
      "provenance": []
    },
    "kernelspec": {
      "name": "python3",
      "display_name": "Python 3"
    },
    "language_info": {
      "name": "python"
    }
  },
  "cells": [
    {
      "cell_type": "code",
      "execution_count": null,
      "metadata": {
        "colab": {
          "base_uri": "https://localhost:8080/"
        },
        "id": "a6r-vGO1bedw",
        "outputId": "aa0b8221-abac-4447-88d9-686cb34b1040"
      },
      "outputs": [
        {
          "output_type": "stream",
          "name": "stdout",
          "text": [
            "Requirement already satisfied: datasets in /usr/local/lib/python3.10/dist-packages (3.1.0)\n",
            "Requirement already satisfied: scikit-learn in /usr/local/lib/python3.10/dist-packages (1.5.2)\n",
            "Requirement already satisfied: matplotlib in /usr/local/lib/python3.10/dist-packages (3.8.0)\n",
            "Requirement already satisfied: nltk in /usr/local/lib/python3.10/dist-packages (3.8.1)\n",
            "Requirement already satisfied: filelock in /usr/local/lib/python3.10/dist-packages (from datasets) (3.16.1)\n",
            "Requirement already satisfied: numpy>=1.17 in /usr/local/lib/python3.10/dist-packages (from datasets) (1.26.4)\n",
            "Requirement already satisfied: pyarrow>=15.0.0 in /usr/local/lib/python3.10/dist-packages (from datasets) (17.0.0)\n",
            "Requirement already satisfied: dill<0.3.9,>=0.3.0 in /usr/local/lib/python3.10/dist-packages (from datasets) (0.3.8)\n",
            "Requirement already satisfied: pandas in /usr/local/lib/python3.10/dist-packages (from datasets) (2.2.2)\n",
            "Requirement already satisfied: requests>=2.32.2 in /usr/local/lib/python3.10/dist-packages (from datasets) (2.32.3)\n",
            "Requirement already satisfied: tqdm>=4.66.3 in /usr/local/lib/python3.10/dist-packages (from datasets) (4.66.6)\n",
            "Requirement already satisfied: xxhash in /usr/local/lib/python3.10/dist-packages (from datasets) (3.5.0)\n",
            "Requirement already satisfied: multiprocess<0.70.17 in /usr/local/lib/python3.10/dist-packages (from datasets) (0.70.16)\n",
            "Requirement already satisfied: fsspec<=2024.9.0,>=2023.1.0 in /usr/local/lib/python3.10/dist-packages (from fsspec[http]<=2024.9.0,>=2023.1.0->datasets) (2024.9.0)\n",
            "Requirement already satisfied: aiohttp in /usr/local/lib/python3.10/dist-packages (from datasets) (3.10.10)\n",
            "Requirement already satisfied: huggingface-hub>=0.23.0 in /usr/local/lib/python3.10/dist-packages (from datasets) (0.24.7)\n",
            "Requirement already satisfied: packaging in /usr/local/lib/python3.10/dist-packages (from datasets) (24.1)\n",
            "Requirement already satisfied: pyyaml>=5.1 in /usr/local/lib/python3.10/dist-packages (from datasets) (6.0.2)\n",
            "Requirement already satisfied: scipy>=1.6.0 in /usr/local/lib/python3.10/dist-packages (from scikit-learn) (1.13.1)\n",
            "Requirement already satisfied: joblib>=1.2.0 in /usr/local/lib/python3.10/dist-packages (from scikit-learn) (1.4.2)\n",
            "Requirement already satisfied: threadpoolctl>=3.1.0 in /usr/local/lib/python3.10/dist-packages (from scikit-learn) (3.5.0)\n",
            "Requirement already satisfied: contourpy>=1.0.1 in /usr/local/lib/python3.10/dist-packages (from matplotlib) (1.3.0)\n",
            "Requirement already satisfied: cycler>=0.10 in /usr/local/lib/python3.10/dist-packages (from matplotlib) (0.12.1)\n",
            "Requirement already satisfied: fonttools>=4.22.0 in /usr/local/lib/python3.10/dist-packages (from matplotlib) (4.54.1)\n",
            "Requirement already satisfied: kiwisolver>=1.0.1 in /usr/local/lib/python3.10/dist-packages (from matplotlib) (1.4.7)\n",
            "Requirement already satisfied: pillow>=6.2.0 in /usr/local/lib/python3.10/dist-packages (from matplotlib) (10.4.0)\n",
            "Requirement already satisfied: pyparsing>=2.3.1 in /usr/local/lib/python3.10/dist-packages (from matplotlib) (3.2.0)\n",
            "Requirement already satisfied: python-dateutil>=2.7 in /usr/local/lib/python3.10/dist-packages (from matplotlib) (2.8.2)\n",
            "Requirement already satisfied: click in /usr/local/lib/python3.10/dist-packages (from nltk) (8.1.7)\n",
            "Requirement already satisfied: regex>=2021.8.3 in /usr/local/lib/python3.10/dist-packages (from nltk) (2024.9.11)\n",
            "Requirement already satisfied: aiohappyeyeballs>=2.3.0 in /usr/local/lib/python3.10/dist-packages (from aiohttp->datasets) (2.4.3)\n",
            "Requirement already satisfied: aiosignal>=1.1.2 in /usr/local/lib/python3.10/dist-packages (from aiohttp->datasets) (1.3.1)\n",
            "Requirement already satisfied: attrs>=17.3.0 in /usr/local/lib/python3.10/dist-packages (from aiohttp->datasets) (24.2.0)\n",
            "Requirement already satisfied: frozenlist>=1.1.1 in /usr/local/lib/python3.10/dist-packages (from aiohttp->datasets) (1.5.0)\n",
            "Requirement already satisfied: multidict<7.0,>=4.5 in /usr/local/lib/python3.10/dist-packages (from aiohttp->datasets) (6.1.0)\n",
            "Requirement already satisfied: yarl<2.0,>=1.12.0 in /usr/local/lib/python3.10/dist-packages (from aiohttp->datasets) (1.17.0)\n",
            "Requirement already satisfied: async-timeout<5.0,>=4.0 in /usr/local/lib/python3.10/dist-packages (from aiohttp->datasets) (4.0.3)\n",
            "Requirement already satisfied: typing-extensions>=3.7.4.3 in /usr/local/lib/python3.10/dist-packages (from huggingface-hub>=0.23.0->datasets) (4.12.2)\n",
            "Requirement already satisfied: six>=1.5 in /usr/local/lib/python3.10/dist-packages (from python-dateutil>=2.7->matplotlib) (1.16.0)\n",
            "Requirement already satisfied: charset-normalizer<4,>=2 in /usr/local/lib/python3.10/dist-packages (from requests>=2.32.2->datasets) (3.4.0)\n",
            "Requirement already satisfied: idna<4,>=2.5 in /usr/local/lib/python3.10/dist-packages (from requests>=2.32.2->datasets) (3.10)\n",
            "Requirement already satisfied: urllib3<3,>=1.21.1 in /usr/local/lib/python3.10/dist-packages (from requests>=2.32.2->datasets) (2.2.3)\n",
            "Requirement already satisfied: certifi>=2017.4.17 in /usr/local/lib/python3.10/dist-packages (from requests>=2.32.2->datasets) (2024.8.30)\n",
            "Requirement already satisfied: pytz>=2020.1 in /usr/local/lib/python3.10/dist-packages (from pandas->datasets) (2024.2)\n",
            "Requirement already satisfied: tzdata>=2022.7 in /usr/local/lib/python3.10/dist-packages (from pandas->datasets) (2024.2)\n",
            "Requirement already satisfied: propcache>=0.2.0 in /usr/local/lib/python3.10/dist-packages (from yarl<2.0,>=1.12.0->aiohttp->datasets) (0.2.0)\n"
          ]
        },
        {
          "output_type": "stream",
          "name": "stderr",
          "text": [
            "[nltk_data] Downloading package punkt to /root/nltk_data...\n",
            "[nltk_data]   Package punkt is already up-to-date!\n",
            "[nltk_data] Downloading package averaged_perceptron_tagger to\n",
            "[nltk_data]     /root/nltk_data...\n",
            "[nltk_data]   Package averaged_perceptron_tagger is already up-to-\n",
            "[nltk_data]       date!\n"
          ]
        },
        {
          "output_type": "execute_result",
          "data": {
            "text/plain": [
              "True"
            ]
          },
          "metadata": {},
          "execution_count": 27
        }
      ],
      "source": [
        "!pip install datasets scikit-learn matplotlib nltk\n",
        "\n",
        "# Importing necessary libraries\n",
        "import nltk\n",
        "import numpy as np\n",
        "from datasets import load_dataset\n",
        "from sklearn.feature_extraction import DictVectorizer\n",
        "from sklearn.svm import LinearSVC\n",
        "from sklearn.metrics import classification_report, confusion_matrix, ConfusionMatrixDisplay\n",
        "from sklearn.model_selection import cross_val_predict, KFold\n",
        "import matplotlib.pyplot as plt\n",
        "import pandas as pd\n",
        "\n",
        "# Downloading NLTK dependencies\n",
        "nltk.download('punkt')\n",
        "nltk.download('averaged_perceptron_tagger')\n"
      ]
    },
    {
      "cell_type": "code",
      "source": [
        "# DataLoader Class to load and transform data\n",
        "class DataLoader:\n",
        "    @staticmethod\n",
        "    def load_conll2003():\n",
        "        dataset = load_dataset(\"conll2003\", trust_remote_code=True)\n",
        "        return dataset['train'], dataset['test'], dataset['validation']\n",
        "\n",
        "    @staticmethod\n",
        "    def transform_to_dataset(dataset):\n",
        "        X, y = [], []\n",
        "\n",
        "        for item in dataset:\n",
        "            tokens = item['tokens']\n",
        "            pos_tags = item['pos_tags']\n",
        "            ner_tags = item['ner_tags']\n",
        "\n",
        "            for i in range(len(tokens)):\n",
        "                X.append(FeatureExtractor.extract_features(tokens, pos_tags, i))\n",
        "                y.append(1 if ner_tags[i] != 0 else 0)  # In the dataset 0 is for O while other values form 1 to 8 are for B/I\n",
        "\n",
        "        return X, y"
      ],
      "metadata": {
        "id": "m2dKDA6zbrjY"
      },
      "execution_count": null,
      "outputs": []
    },
    {
      "cell_type": "code",
      "source": [
        "# FeatureExtractor Class to extract features from tokens\n",
        "from nltk.corpus import stopwords\n",
        "import string\n",
        "\n",
        "nltk.download('stopwords')\n",
        "stop_words = set(stopwords.words('english'))\n",
        "punctuation = set(string.punctuation)\n",
        "\n",
        "class FeatureExtractor:\n",
        "    @staticmethod\n",
        "    def extract_features(tokens, pos_tags, i):\n",
        "        word = tokens[i]\n",
        "        postag = pos_tags[i]\n",
        "\n",
        "        features = {\n",
        "            'word': word,       # basic word features\n",
        "            'word_lower': word.lower(),\n",
        "            'is_title': word.istitle(),\n",
        "            #'is_capitalized': word[0].upper() == word[0],\n",
        "            'is_all_caps': word.upper() == word,\n",
        "            'is_all_lower': word.lower() == word,\n",
        "            'prefix-1': word[0],\n",
        "            'prefix-2': word[:2],\n",
        "            'suffix-1': word[-1],\n",
        "            'suffix-2': word[-2:],\n",
        "            'is_stopword': word.lower() in stop_words,\n",
        "            'is_punctuation': word in punctuation,\n",
        "\n",
        "            'is_first': i == 0,     # sentence position features\n",
        "            'is_last': i == len(tokens) - 1,\n",
        "\n",
        "            'prev_word': '' if i == 0 else tokens[i - 1],   # contextual features\n",
        "            'prev_word_is_title': '' if i == 0 else tokens[i - 1].istitle(),\n",
        "            'next_word': '' if i == len(tokens) - 1 else tokens[i + 1],\n",
        "            'next_word_is_title': '' if i == len(tokens) - 1 else tokens[i + 1].istitle(),\n",
        "\n",
        "            #'postag': postag,      # POS tags for context\n",
        "            #'prev_postag': '' if i == 0 else pos_tags[i - 1],\n",
        "            #'next_postag': '' if i == len(pos_tags) - 1 else pos_tags[i + 1],\n",
        "        }\n",
        "\n",
        "        # if i > 0:\n",
        "        #     features['prev_bigram'] = tokens[i - 1] + ' ' + word\n",
        "        # if i < len(tokens) - 1:\n",
        "        #     features['next_bigram'] = word + ' ' + tokens[i + 1]\n",
        "        # if i > 1:\n",
        "        #     features['prev_trigram'] = tokens[i - 2] + ' ' + tokens[i - 1] + ' ' + word\n",
        "        # if i < len(tokens) - 2:\n",
        "        #     features['next_trigram'] = word + ' ' + tokens[i + 1] + ' ' + tokens[i + 2]\n",
        "\n",
        "        return features"
      ],
      "metadata": {
        "id": "rI1Y5CcVb47I",
        "colab": {
          "base_uri": "https://localhost:8080/"
        },
        "outputId": "a4f8bb95-e683-444d-c4a4-f601619d512e"
      },
      "execution_count": null,
      "outputs": [
        {
          "output_type": "stream",
          "name": "stderr",
          "text": [
            "[nltk_data] Downloading package stopwords to /root/nltk_data...\n",
            "[nltk_data]   Unzipping corpora/stopwords.zip.\n"
          ]
        }
      ]
    },
    {
      "cell_type": "code",
      "source": [
        "# ModelTrainer Class for training and cross-validation\n",
        "class ModelTrainer:\n",
        "    def __init__(self, X):\n",
        "        self.vectorizer = DictVectorizer(sparse=True)\n",
        "        self.model = LinearSVC(max_iter=10000)\n",
        "        self.vectorizer.fit(X)\n",
        "\n",
        "    def fit(self, X, y):\n",
        "        X = self.vectorizer.fit_transform(X)\n",
        "        self.model.fit(X, y)\n",
        "\n",
        "    def cross_validate(self, X, y, folds=5):\n",
        "        X = self.vectorizer.fit_transform(X)\n",
        "        kf = KFold(n_splits=folds, shuffle=True, random_state=42)\n",
        "        y_pred = cross_val_predict(self.model, X, y, cv=kf)\n",
        "\n",
        "        print(\"Classification Report (5-Fold Cross-Validation):\")\n",
        "        print(classification_report(y, y_pred))\n",
        "\n",
        "        # Plot confusion matrix\n",
        "        cm = confusion_matrix(y, y_pred)\n",
        "        disp = ConfusionMatrixDisplay(confusion_matrix=cm, display_labels=[\"O\", \"B/I\"])\n",
        "        disp.plot(cmap=\"Greys\")\n",
        "        plt.title(\"Confusion Matrix\")\n",
        "        plt.show()"
      ],
      "metadata": {
        "id": "zmpvl72UcFKz"
      },
      "execution_count": null,
      "outputs": []
    },
    {
      "cell_type": "code",
      "source": [
        "# Predictor Class to predict NER for a single sentence\n",
        "class Predictor:\n",
        "    def __init__(self, model, vectorizer):\n",
        "        self.model = model\n",
        "        self.vectorizer = vectorizer\n",
        "\n",
        "    def predict_single_sentence(self, sentence):\n",
        "        tokens = nltk.word_tokenize(sentence)\n",
        "        pos_tags = [nltk.pos_tag([word])[0][1] for word in tokens]\n",
        "        sent = {'tokens': tokens, 'pos_tags': pos_tags}\n",
        "\n",
        "        features = [FeatureExtractor.extract_features(sent['tokens'], sent['pos_tags'], i) for i in range(len(tokens))]\n",
        "        X_sent = self.vectorizer.transform(features)\n",
        "\n",
        "        y_sent_pred = self.model.predict(X_sent)\n",
        "        return list(zip(tokens, [\"B/I\" if tag == 1 else \"O\" for tag in y_sent_pred]))"
      ],
      "metadata": {
        "id": "iZ3VWdZNcMOi"
      },
      "execution_count": null,
      "outputs": []
    },
    {
      "cell_type": "code",
      "source": [
        "# Load and transform data\n",
        "train_data, test_data, _ = DataLoader.load_conll2003()\n",
        "X_train, y_train = DataLoader.transform_to_dataset(train_data)\n",
        "X_test, y_test = DataLoader.transform_to_dataset(test_data)"
      ],
      "metadata": {
        "id": "niJm183LcOrG"
      },
      "execution_count": null,
      "outputs": []
    },
    {
      "cell_type": "code",
      "source": [
        "# Train and evaluate the model with cross-validation\n",
        "trainer = ModelTrainer(X_train + X_test)\n",
        "#trainer.cross_validate(X_train, y_train, folds=5)"
      ],
      "metadata": {
        "id": "WQK2prgccSM2"
      },
      "execution_count": null,
      "outputs": []
    },
    {
      "cell_type": "code",
      "source": [
        "trainer.fit(X_train, y_train)\n",
        "predictor = Predictor(trainer.model, trainer.vectorizer)"
      ],
      "metadata": {
        "id": "9DWM0u5tfe-q"
      },
      "execution_count": null,
      "outputs": []
    },
    {
      "cell_type": "code",
      "source": [
        "s = \"Washington DC is the capital of the United States Of America.\"\n",
        "# s = \"Bank of Japan\"\n",
        "predicted_nei = predictor.predict_single_sentence(s)\n",
        "\n",
        "for word, tag in predicted_nei:\n",
        "    print(f'{word}: {tag}')"
      ],
      "metadata": {
        "id": "EjgeSFsvruRE",
        "colab": {
          "base_uri": "https://localhost:8080/"
        },
        "outputId": "425638ae-00ab-479a-eef2-06126359444d"
      },
      "execution_count": null,
      "outputs": [
        {
          "output_type": "stream",
          "name": "stdout",
          "text": [
            "Washington: B/I\n",
            "DC: B/I\n",
            "is: O\n",
            "the: O\n",
            "capital: O\n",
            "of: O\n",
            "the: O\n",
            "United: B/I\n",
            "States: B/I\n",
            "Of: O\n",
            "America: B/I\n",
            ".: O\n"
          ]
        }
      ]
    },
    {
      "cell_type": "code",
      "source": [
        "s = \"bank of japan\"\n",
        "predicted_nei = predictor.predict_single_sentence(s)\n",
        "\n",
        "for word, tag in predicted_nei:\n",
        "    print(f'{word}: {tag}')"
      ],
      "metadata": {
        "id": "ttIez4NaWxbZ",
        "colab": {
          "base_uri": "https://localhost:8080/"
        },
        "outputId": "ca30edcc-5b4c-401d-ce12-9083d69ab4ff"
      },
      "execution_count": null,
      "outputs": [
        {
          "output_type": "stream",
          "name": "stdout",
          "text": [
            "bank: O\n",
            "of: O\n",
            "japan: O\n"
          ]
        }
      ]
    },
    {
      "cell_type": "code",
      "source": [
        "import pickle\n",
        "\n",
        "# Save the ModelTrainer instance\n",
        "with open(\"svm_model.pkl\", \"wb\") as f:\n",
        "    pickle.dump(trainer, f)"
      ],
      "metadata": {
        "id": "HWB-O1oFbH6R"
      },
      "execution_count": null,
      "outputs": []
    },
    {
      "cell_type": "code",
      "source": [
        "from sklearn.metrics import precision_score, recall_score, f1_score\n",
        "\n",
        "def eval(X, y):\n",
        "    X = trainer.vectorizer.transform(X)\n",
        "    y_pred = [trainer.model.predict(i) for i in X]\n",
        "\n",
        "    print(\"Classification Report:\")\n",
        "    print(classification_report(y, y_pred, target_names=['O', 'B/I']))\n",
        "    precision = precision_score(y, y_pred, average='weighted')\n",
        "    recall = recall_score(y, y_pred, average='weighted')\n",
        "    f1 = f1_score(y, y_pred, average='weighted')\n",
        "\n",
        "    print(f\"Precision: {precision:.4f}\")\n",
        "    print(f\"Recall: {recall:.4f}\")\n",
        "    print(f\"F1 Score: {f1:.4f}\")\n",
        "    print()\n",
        "\n",
        "    # Plot confusion matrix\n",
        "    cm = confusion_matrix(y, y_pred)\n",
        "    disp = ConfusionMatrixDisplay(confusion_matrix=cm, display_labels=[\"O\", \"B/I\"])\n",
        "    disp.plot(cmap=\"Greys\")\n",
        "    plt.title(\"Confusion Matrix\")\n",
        "    plt.show()"
      ],
      "metadata": {
        "id": "m0UwcKTONUsu"
      },
      "execution_count": null,
      "outputs": []
    },
    {
      "cell_type": "code",
      "source": [
        "eval(X_test, y_test)"
      ],
      "metadata": {
        "id": "ApeyQzHFO9eP",
        "colab": {
          "base_uri": "https://localhost:8080/",
          "height": 726
        },
        "outputId": "a9105cbc-ee73-4736-c354-ff20fac3c37a"
      },
      "execution_count": null,
      "outputs": [
        {
          "output_type": "stream",
          "name": "stdout",
          "text": [
            "Classification Report:\n",
            "              precision    recall  f1-score   support\n",
            "\n",
            "           O       0.99      0.99      0.99     38323\n",
            "         B/I       0.94      0.97      0.95      8112\n",
            "\n",
            "    accuracy                           0.98     46435\n",
            "   macro avg       0.97      0.98      0.97     46435\n",
            "weighted avg       0.98      0.98      0.98     46435\n",
            "\n",
            "Precision: 0.9834\n",
            "Recall: 0.9831\n",
            "F1 Score: 0.9832\n",
            "\n"
          ]
        },
        {
          "output_type": "display_data",
          "data": {
            "text/plain": [
              "<Figure size 640x480 with 2 Axes>"
            ],
            "image/png": "[encoded data removed]"
          },
          "metadata": {}
        }
      ]
    },
    {
      "cell_type": "markdown",
      "source": [
        "## ChatGPT Comparison"
      ],
      "metadata": {
        "id": "eR2pfoTtMt5k"
      }
    },
    {
      "cell_type": "code",
      "source": [
        "for i in range(11,100+11):\n",
        "    print('(', i-10, ') ', test_data[i]['tokens'])\n",
        "    if i %10 == 0:\n",
        "        print()"
      ],
      "metadata": {
        "id": "e7zQ8zsMMtWE",
        "colab": {
          "base_uri": "https://localhost:8080/"
        },
        "outputId": "e77bd25d-90dc-4a2f-9412-dd3a368165c8"
      },
      "execution_count": null,
      "outputs": [
        {
          "output_type": "stream",
          "name": "stdout",
          "text": [
            "( 1 )  ['It', 'was', 'the', 'second', 'costly', 'blunder', 'by', 'Syria', 'in', 'four', 'minutes', '.']\n",
            "( 2 )  ['Defender', 'Hassan', 'Abbas', 'rose', 'to', 'intercept', 'a', 'long', 'ball', 'into', 'the', 'area', 'in', 'the', '84th', 'minute', 'but', 'only', 'managed', 'to', 'divert', 'it', 'into', 'the', 'top', 'corner', 'of', 'Bitar', \"'s\", 'goal', '.']\n",
            "( 3 )  ['Nader', 'Jokhadar', 'had', 'given', 'Syria', 'the', 'lead', 'with', 'a', 'well-struck', 'header', 'in', 'the', 'seventh', 'minute', '.']\n",
            "( 4 )  ['Japan', 'then', 'laid', 'siege', 'to', 'the', 'Syrian', 'penalty', 'area', 'for', 'most', 'of', 'the', 'game', 'but', 'rarely', 'breached', 'the', 'Syrian', 'defence', '.']\n",
            "( 5 )  ['Bitar', 'pulled', 'off', 'fine', 'saves', 'whenever', 'they', 'did', '.']\n",
            "( 6 )  ['Japan', 'coach', 'Shu', 'Kamo', 'said', ':', \"'\", \"'\", 'The', 'Syrian', 'own', 'goal', 'proved', 'lucky', 'for', 'us', '.']\n",
            "( 7 )  ['The', 'Syrians', 'scored', 'early', 'and', 'then', 'played', 'defensively', 'and', 'adopted', 'long', 'balls', 'which', 'made', 'it', 'hard', 'for', 'us', '.', \"'\"]\n",
            "( 8 )  [\"'\"]\n",
            "( 9 )  ['Japan', ',', 'co-hosts', 'of', 'the', 'World', 'Cup', 'in', '2002', 'and', 'ranked', '20th', 'in', 'the', 'world', 'by', 'FIFA', ',', 'are', 'favourites', 'to', 'regain', 'their', 'title', 'here', '.']\n",
            "( 10 )  ['Hosts', 'UAE', 'play', 'Kuwait', 'and', 'South', 'Korea', 'take', 'on', 'Indonesia', 'on', 'Saturday', 'in', 'Group', 'A', 'matches', '.']\n",
            "\n",
            "( 11 )  ['All', 'four', 'teams', 'are', 'level', 'with', 'one', 'point', 'each', 'from', 'one', 'game', '.']\n",
            "( 12 )  ['RUGBY', 'UNION', '-', 'CUTTITTA', 'BACK', 'FOR', 'ITALY', 'AFTER', 'A', 'YEAR', '.']\n",
            "( 13 )  ['ROME', '1996-12-06']\n",
            "( 14 )  ['Italy', 'recalled', 'Marcello', 'Cuttitta']\n",
            "( 15 )  ['on', 'Friday', 'for', 'their', 'friendly', 'against', 'Scotland', 'at', 'Murrayfield', 'more', 'than', 'a', 'year', 'after', 'the', '30-year-old', 'wing', 'announced', 'he', 'was', 'retiring', 'following', 'differences', 'over', 'selection', '.']\n",
            "( 16 )  ['Cuttitta', ',', 'who', 'trainer', 'George', 'Coste', 'said', 'was', 'certain', 'to', 'play', 'on', 'Saturday', 'week', ',', 'was', 'named', 'in', 'a', '21-man', 'squad', 'lacking', 'only', 'two', 'of', 'the', 'team', 'beaten', '54-21', 'by', 'England', 'at', 'Twickenham', 'last', 'month', '.']\n",
            "( 17 )  ['Stefano', 'Bordon', 'is', 'out', 'through', 'illness', 'and', 'Coste', 'said', 'he', 'had', 'dropped', 'back', 'row', 'Corrado', 'Covi', ',', 'who', 'had', 'been', 'recalled', 'for', 'the', 'England', 'game', 'after', 'five', 'years', 'out', 'of', 'the', 'national', 'team', '.']\n",
            "( 18 )  ['Cuttitta', 'announced', 'his', 'retirement', 'after', 'the', '1995', 'World', 'Cup', ',', 'where', 'he', 'took', 'issue', 'with', 'being', 'dropped', 'from', 'the', 'Italy', 'side', 'that', 'faced', 'England', 'in', 'the', 'pool', 'stages', '.']\n",
            "( 19 )  ['Coste', 'said', 'he', 'had', 'approached', 'the', 'player', 'two', 'months', 'ago', 'about', 'a', 'comeback', '.']\n",
            "( 20 )  ['\"', 'He', 'ended', 'the', 'World', 'Cup', 'on', 'the', 'wrong', 'note', ',', '\"', 'Coste', 'said', '.']\n",
            "\n",
            "( 21 )  ['\"', 'I', 'thought', 'it', 'would', 'be', 'useful', 'to', 'have', 'him', 'back', 'and', 'he', 'said', 'he', 'would', 'be', 'available', '.']\n",
            "( 22 )  ['I', 'think', 'now', 'is', 'the', 'right', 'time', 'for', 'him', 'to', 'return', '.', '\"']\n",
            "( 23 )  ['Squad', ':', 'Javier', 'Pertile', ',', 'Paolo', 'Vaccari', ',', 'Marcello', 'Cuttitta', ',', 'Ivan', 'Francescato', ',', 'Leandro', 'Manteri', ',', 'Diego', 'Dominguez', ',', 'Francesco', 'Mazzariol', ',', 'Alessandro', 'Troncon', ',', 'Orazio', 'Arancio', ',', 'Andrea', 'Sgorlon', ',', 'Massimo', 'Giovanelli', ',', 'Carlo', 'Checchinato', ',', 'Walter', 'Cristofoletto', ',', 'Franco', 'Properzi', 'Curti', ',', 'Carlo', 'Orlandi', ',', 'Massimo', 'Cuttitta', ',', 'Giambatista', 'Croci', ',', 'Gianluca', 'Guidi', ',', 'Nicola', 'Mazzucato', ',', 'Alessandro', 'Moscardi', ',', 'Andrea', 'Castellani', '.']\n",
            "( 24 )  ['SOCCER', '-', 'LATE', 'GOALS', 'GIVE', 'JAPAN', 'WIN', 'OVER', 'SYRIA', '.']\n",
            "( 25 )  ['AL-AIN', ',', 'United', 'Arab', 'Emirates', '1996-12-06']\n",
            "( 26 )  ['Two', 'goals', 'in', 'the', 'last', 'six', 'minutes', 'gave', 'holders', 'Japan', 'an', 'uninspiring', '2-1', 'Asian', 'Cup', 'victory', 'over', 'Syria', 'on', 'Friday', '.']\n",
            "( 27 )  ['Takuya', 'Takagi', 'headed', 'the', 'winner', 'in', 'the', '88th', 'minute', 'of', 'the', 'group', 'C', 'game', 'after', 'goalkeeper', 'Salem', 'Bitar', 'spoiled', 'a', 'mistake-free', 'display', 'by', 'allowing', 'the', 'ball', 'to', 'slip', 'under', 'his', 'body', '.']\n",
            "( 28 )  ['It', 'was', 'the', 'second', 'Syrian', 'defensive', 'blunder', 'in', 'four', 'minutes', '.']\n",
            "( 29 )  ['Defender', 'Hassan', 'Abbas', 'rose', 'to', 'intercept', 'a', 'long', 'ball', 'into', 'the', 'area', 'in', 'the', '84th', 'minute', 'but', 'only', 'managed', 'to', 'divert', 'it', 'into', 'the', 'top', 'corner', 'of', 'Bitar', \"'s\", 'goal', '.']\n",
            "( 30 )  ['Syria', 'had', 'taken', 'the', 'lead', 'from', 'their', 'first', 'serious', 'attack', 'in', 'the', 'seventh', 'minute', '.']\n",
            "\n",
            "( 31 )  ['Nader', 'Jokhadar', 'headed', 'a', 'cross', 'from', 'the', 'right', 'by', 'Ammar', 'Awad', 'into', 'the', 'top', 'right', 'corner', 'of', 'Kenichi', 'Shimokawa', \"'s\", 'goal', '.']\n",
            "( 32 )  ['Japan', 'then', 'laid', 'siege', 'to', 'the', 'Syrian', 'penalty', 'area', 'and', 'had', 'a', 'goal', 'disallowed', 'for', 'offside', 'in', 'the', '16th', 'minute', '.']\n",
            "( 33 )  ['A', 'minute', 'later', ',', 'Bitar', 'produced', 'a', 'good', 'double', 'save', ',', 'first', 'from', 'Kazuyoshi', 'Miura', \"'s\", 'header', 'and', 'then', 'blocked', 'a', 'Takagi', 'follow-up', 'shot', '.']\n",
            "( 34 )  ['Bitar', 'saved', 'well', 'again', 'from', 'Miura', 'in', 'the', '37th', 'minute', ',', 'parrying', 'away', 'his', 'header', 'from', 'a', 'corner', '.']\n",
            "( 35 )  ['Japan', 'started', 'the', 'second', 'half', 'brightly', 'but', 'Bitar', 'denied', 'them', 'an', 'equaliser', 'when', 'he', 'dived', 'to', 'his', 'right', 'to', 'save', 'Naoki', 'Soma', \"'s\", 'low', 'drive', 'in', 'the', '53rd', 'minute', '.']\n",
            "( 36 )  ['Japan', ':', '19', '-', 'Kenichi', 'Shimokawa', ',', '2', '-', 'Hiroshige', 'Yanagimoto', ',', '3', '-', 'Naoki', 'Soma', ',', '4', '-', 'Masami', 'Ihara', ',', '5', '-', 'Norio', 'Omura', ',', '6', '-', 'Motohiro', 'Yamaguchi', ',', '8', '-', 'Masakiyo', 'Maezono', '(', '7', '-', 'Yasuto', 'Honda', '71', ')', ',', '9', '-', 'Takuya', 'Takagi', ',', '10', '-', 'Hiroshi', 'Nanami', ',', '11', '-', 'Kazuyoshi', 'Miura', ',', '15', '-', 'Hiroaki', 'Morishima', '(', '14', '-', 'Masayuki', 'Okano', '75', ')', '.']\n",
            "( 37 )  ['Syria', ':', '24', '-', 'Salem', 'Bitar', ',', '3', '-', 'Bachar', 'Srour', ';', '4', '-', 'Hassan', 'Abbas', ',', '5', '-', 'Tarek', 'Jabban', ',', '6', '-', 'Ammar', 'Awad', '(', '9', '-', 'Louay', 'Taleb', '69', ')', ',', '8', '-', 'Nihad', 'al-Boushi', ',', '10', '-', 'Mohammed', 'Afash', ',', '12', '-', 'Ali', 'Dib', ',', '13', '-', 'Abdul', 'Latif', 'Helou', '(', '17', '-', 'Ammar', 'Rihawiy', '46', ')', ',', '14', '-', 'Khaled', 'Zaher', ';', '16', '-', 'Nader', 'Jokhadar', '.']\n",
            "( 38 )  ['FREESTYLE', 'SKIING-WORLD', 'CUP', 'MOGUL', 'RESULTS', '.']\n",
            "( 39 )  ['TIGNES', ',', 'France', '1996-12-06']\n",
            "( 40 )  ['Results', 'of', 'the', 'World', 'Cup']\n",
            "\n",
            "( 41 )  ['freestyle', 'skiing', 'moguls', 'competition', 'on', 'Friday', ':']\n",
            "( 42 )  ['Men']\n",
            "( 43 )  ['1.', 'Jesper', 'Ronnback', '(', 'Sweden', ')', '25.76', 'points']\n",
            "( 44 )  ['2.', 'Andrei', 'Ivanov', '(', 'Russia', ')', '24.88']\n",
            "( 45 )  ['3.', 'Ryan', 'Johnson', '(', 'Canada', ')', '24.57']\n",
            "( 46 )  ['4.', 'Jean-Luc', 'Brassard', '(', 'Canada', ')', '24.40']\n",
            "( 47 )  ['5.', 'Korneilus', 'Hole', '(', 'Norway', ')', '23.92']\n",
            "( 48 )  ['6.', 'Jeremie', 'Collomb-Patton', '(', 'France', ')', '23.87']\n",
            "( 49 )  ['7.', 'Jim', 'Moran', '(', 'U.S.', ')', '23.25']\n",
            "( 50 )  ['8.', 'Dominick', 'Gauthier', '(', 'Canada', ')', '22.73']\n",
            "\n",
            "( 51 )  ['9.', 'Johann', 'Gregoire', '(', 'France', ')', '22.58']\n",
            "( 52 )  ['10.', 'Troy', 'Benson', '(', 'U.S.', ')', '22.56']\n",
            "( 53 )  ['Women']\n",
            "( 54 )  ['1.', 'Tatjana', 'Mittermayer', '(', 'Germany', ')', '24.32']\n",
            "( 55 )  ['2.', 'Candice', 'Gilg', '(', 'France', ')', '24.31']\n",
            "( 56 )  ['3.', 'Minna', 'Karhu', '(', 'Finland', ')', '24.05']\n",
            "( 57 )  ['4.', 'Tae', 'Satoya', '(', 'Japan', ')', '23.75']\n",
            "( 58 )  ['5.', 'Ann', 'Battellle', '(', 'U.S.', ')', '23.56']\n",
            "( 59 )  ['6.', 'Donna', 'Weinbrecht', '(', 'U.S.', ')', '22.48']\n",
            "( 60 )  ['7.', 'Liz', 'McIntyre', '(', 'U.S.', ')', '22.00']\n",
            "\n",
            "( 61 )  ['8.', 'Elena', 'Koroleva', '(', 'Russia', ')', '21.77']\n",
            "( 62 )  ['9.', 'Ljudmila', 'Dymchenko', '(', 'Russia', ')', '21.59']\n",
            "( 63 )  ['10.', 'Katleen', 'Allais', '(', 'France', ')', '21.58']\n",
            "( 64 )  ['SOCCER', '-', 'ASIAN', 'CUP', 'GROUP', 'C', 'RESULTS', '.']\n",
            "( 65 )  ['AL-AIN', ',', 'United', 'Arab', 'Emirates', '1996-12-06']\n",
            "( 66 )  ['Results', 'of', 'Asian', 'Cup', 'group', 'C', 'matches', 'played', 'on', 'Friday', ':']\n",
            "( 67 )  ['Japan', '2', 'Syria', '1', '(', 'halftime', '0-1', ')']\n",
            "( 68 )  ['Scorers', ':']\n",
            "( 69 )  ['Japan', '-', 'Hassan', 'Abbas', '84', 'own', 'goal', ',', 'Takuya', 'Takagi', '88', '.']\n",
            "( 70 )  ['Syria', '-', 'Nader', 'Jokhadar', '7']\n",
            "\n",
            "( 71 )  ['Attendance', ':', '10,000', '.']\n",
            "( 72 )  ['China', '0', 'Uzbekistan', '2', '(', 'halftime', '0-0', ')']\n",
            "( 73 )  ['Scorers', ':', 'Shkvyrin', 'Igor', '78', ',', 'Shatskikh', 'Oleg', '90']\n",
            "( 74 )  ['Attendence', ':', '3,000']\n",
            "( 75 )  ['Standings', '(', 'tabulate', 'under', 'played', ',', 'won', ',', 'drawn', ',', 'lost', ',', 'goals']\n",
            "( 76 )  ['for', ',', 'goals', 'against', ',', 'points', ')', ':']\n",
            "( 77 )  ['Uzbekistan', '1', '1', '0', '0', '2', '0', '3']\n",
            "( 78 )  ['Japan', '1', '1', '0', '0', '2', '1', '3']\n",
            "( 79 )  ['Syria', '1', '0', '0', '1', '1', '2', '0']\n",
            "( 80 )  ['China', '1', '0', '0', '1', '0', '2', '0']\n",
            "\n",
            "( 81 )  ['CRICKET', '-', 'PAKISTAN', 'V', 'NEW', 'ZEALAND', 'ONE-DAY', 'SCOREBOARD', '.']\n",
            "( 82 )  ['[', 'CORRECTED', '14:06', 'GMT', ']']\n",
            "( 83 )  ['SIALKOT', ',', 'Pakistan', '1996-12-06']\n",
            "( 84 )  ['Scoreboard', 'in', 'the', 'second']\n",
            "( 85 )  ['one-day', 'cricket', 'international', 'between', 'Pakistan', 'and', 'New', 'Zealand']\n",
            "( 86 )  ['on', 'Friday', ':']\n",
            "( 87 )  ['Pakistan']\n",
            "( 88 )  ['Saeed', 'Anwar', 'run', 'out', '91', '(', 'corrects', 'from', '90', ')']\n",
            "( 89 )  ['Zahoor', 'Elahi', 'b', 'Cairns', '86', '(', 'corrects', 'from', '87', ')']\n",
            "( 90 )  ['Ijaz', 'Ahmad', 'c', 'Spearman', 'b', 'Vaughan', '59']\n",
            "\n",
            "( 91 )  ['Inzamamul', 'Haq', 'st', 'Germon', 'b', 'Astle', '2']\n",
            "( 92 )  ['Wasim', 'Akram', 'b', 'Harris', '4']\n",
            "( 93 )  ['Shahid', 'Afridi', 'b', 'Harris', '2']\n",
            "( 94 )  ['Moin', 'Khan', 'c', 'Astle', 'b', 'Harris', '1']\n",
            "( 95 )  ['Waqar', 'Younis', 'st', 'Germon', 'b', 'Harris', '0']\n",
            "( 96 )  ['Saqlain', 'Mushtaq', 'b', 'Harris', '2']\n",
            "( 97 )  ['Mushtaq', 'Ahmad', 'not', 'out', '5']\n",
            "( 98 )  ['Salim', 'Malik', 'not', 'out', '1']\n",
            "( 99 )  ['Extras', '(', 'lb-8', 'nb-2', 'w-14', ')', '24']\n",
            "( 100 )  ['Total', '(', 'for', '9', 'wickets', 'in', '47', 'overs', ')', '277']\n",
            "\n"
          ]
        }
      ]
    },
    {
      "cell_type": "code",
      "source": [
        "chatgpt_answers = [\n",
        "    [0, 0, 0, 0, 0, 0, 0, 1, 0, 0, 0, 0],\n",
        "    [0, 1, 1, 0, 0, 0, 0, 0, 0, 0, 0, 0, 0, 0, 0, 0, 0, 1, 0, 0, 0, 0, 0, 0, 0, 0, 0, 1, 0, 0, 0],\n",
        "    [1, 1, 0, 0, 1, 0, 0, 0, 0, 0, 0, 0, 0, 0, 0, 0],\n",
        "    [1, 0, 0, 0, 0, 0, 1, 1, 0, 0, 0, 0, 0, 0, 0, 0, 0, 1, 1, 0, 0],    # 4\n",
        "    [1, 0, 0, 0, 0, 0, 0, 0, 0],\n",
        "    [1, 0, 1, 1, 0, 0, 0, 0, 0, 1, 1, 0, 0, 0, 0, 0, 0],\n",
        "    [0, 1, 0, 0, 0, 0, 0, 0, 0, 0, 0, 0, 0, 0, 0, 0, 0, 0, 0, 0],\n",
        "    [0],\n",
        "    [1, 0, 1, 0, 0, 1, 1, 0, 1, 0, 0, 1, 0, 1, 0, 0, 1, 0, 0, 0, 0, 0, 0, 0, 0, 0],\n",
        "    [1, 1, 0, 1, 0, 1, 0, 0, 0, 1, 0, 0, 0, 1, 1, 0, 0],  # 20\n",
        "    [0, 0, 0, 0, 0, 0, 0, 0, 0, 0, 0, 0, 0],\n",
        "    [1, 1, 0, 1, 1, 0, 1, 0, 0, 1, 0],\n",
        "    [1, 1],\n",
        "    [1, 0, 1, 1],\n",
        "    [0, 1, 0, 0, 0, 0, 1, 0, 1, 0, 0, 0, 0, 0, 0, 0, 0, 0, 0, 0, 0, 0, 0, 0, 0, 0],\n",
        "    [1, 0, 0, 0, 1, 1, 0, 0, 0, 1, 0, 0, 0, 1, 0, 0, 0, 1, 0, 0, 0, 1, 1, 1, 0, 1, 0, 0, 0, 1, 0, 1, 1, 0, 0, 0], # 16\n",
        "    [1, 1, 0, 0, 0, 0, 0, 1, 0, 0, 0, 0, 0, 0, 1, 1, 0, 1, 0, 0, 1, 0,0, 1, 0, 0, 1, 0, 0,0, 0, 0, 0, 0],\n",
        "    [1, 0, 0, 0, 0, 0, 1, 1, 0, 0, 0, 0, 0, 0, 0, 0, 0, 0, 0, 1, 0, 0, 0, 1, 0, 0, 0, 0, 0],\n",
        "    [1, 0, 0, 0, 0, 0, 0, 0, 0, 0, 0, 0, 0, 0],\n",
        "    [0, 0, 0, 0, 1, 1, 0, 0, 0, 0, 0, 0, 1, 0, 0],\n",
        "      [0, 0, 0, 0, 0, 0, 0, 0, 0, 0, 0, 0, 0, 0, 0, 0, 0, 0, 0],\n",
        "      [0, 0, 0, 0, 0, 0, 0, 0, 0, 0, 0, 0, 0],\n",
        "      [0, 0, 1, 1, 0, 1, 1, 0, 1, 1, 0, 1, 1, 0, 1, 1, 0, 1, 1, 0, 1, 1, 0, 1, 1, 0, 1, 1, 0, 1, 1, 0, 1, 1, 0, 1, 1, 0, 1, 1, 0, 1, 1, 1, 0, 1, 1, 0, 1, 1, 0, 1, 1, 0, 1, 1, 0, 1, 1, 0, 1, 1, 0, 1, 1, 0],\n",
        "      [0, 0, 0, 0, 0, 1, 0, 0, 1, 0],\n",
        "      [1, 0, 1, 1, 1, 1],\n",
        "      [0, 0, 0, 0, 0, 0, 0, 0, 0, 1, 0, 0, 0, 1, 1, 0, 0, 1, 0, 1, 0],\n",
        "      [1, 1, 0, 0, 0, 0, 0, 1, 1, 0, 0, 0, 0, 0, 0, 0, 1, 1, 0, 0, 0, 0, 0, 0, 0, 0, 0, 0, 0, 0, 0, 0],\n",
        "      [0, 0, 0, 0, 1, 0, 0, 0, 1, 0, 0],\n",
        "      [0, 1, 1, 0, 0, 0, 0, 0, 0, 0, 0, 0, 0, 0, 1, 1, 0, 0, 0, 0, 0, 0, 0, 0, 0, 0, 0, 1, 1, 0, 0],\n",
        "      [1, 0, 0, 0, 0, 0, 0, 0, 0, 0, 0, 0, 1, 1, 0]\n",
        "]\n",
        "for i in range(11,11+30):\n",
        "    if len(test_data[i]['ner_tags']) != len(chatgpt_answers[i-11]):\n",
        "        print(i-10, len(test_data[i]['ner_tags']), len(chatgpt_answers[i-11]))\n",
        "        print(test_data[i]['ner_tags'])\n",
        "        print(chatgpt_answers[i-11])"
      ],
      "metadata": {
        "id": "qi6vUkYqQrcI"
      },
      "execution_count": null,
      "outputs": []
    },
    {
      "cell_type": "code",
      "source": [
        "answers_51_60 = [\n",
        "    [0, 1, 1, 0, 1, 0, 0],\n",
        "    [0, 1, 1, 0, 1, 0, 0],\n",
        "    [0],\n",
        "    [0, 1, 1, 0, 1, 0, 0],\n",
        "    [0, 1, 1, 0, 1, 0, 0],\n",
        "    [0, 1, 1, 0, 1, 0, 0],\n",
        "    [0, 1, 1, 0, 1, 0, 0],\n",
        "    [0, 1, 1, 0, 1, 0, 0],\n",
        "    [0, 1, 1, 0, 1, 0, 0],\n",
        "    [0, 1, 1, 0, 1, 0, 0]\n",
        "  ]"
      ],
      "metadata": {
        "id": "bUNu2x3TjOz9"
      },
      "execution_count": null,
      "outputs": []
    },
    {
      "cell_type": "code",
      "source": [
        "answers_41_50 = [\n",
        "    [0, 0, 0, 0, 0, 0, 0],\n",
        "    [0],\n",
        "    [0, 1, 1, 0, 1, 0, 0, 0],\n",
        "    [0, 1, 1, 0, 1, 0, 0],\n",
        "    [0, 1, 1, 0, 1, 0, 0],\n",
        "    [0, 1, 1, 0, 1, 0, 0],\n",
        "    [0, 1, 1, 0, 1, 0, 0],\n",
        "    [0, 1, 1, 0, 1, 0, 0],\n",
        "    [0, 1, 1, 0, 1, 0, 0],\n",
        "    [0, 1, 1, 0, 1, 0, 0]\n",
        "]"
      ],
      "metadata": {
        "id": "cHov3dazkQOb"
      },
      "execution_count": null,
      "outputs": []
    },
    {
      "cell_type": "code",
      "source": [
        "answers_31_40 = [\n",
        "    [1, 1, 0, 0, 0, 0, 0, 0, 1, 1, 1, 0, 0, 0, 1, 0, 0, 1, 1, 0, 1, 0],\n",
        "    [1, 0, 0, 0, 0, 1, 1, 0, 1, 0, 0, 0, 1, 1, 0, 0, 1, 0, 1, 1, 0],\n",
        "    [1, 0, 0, 0, 1, 0, 0, 0, 0, 1, 1, 1, 0, 0, 1, 1, 0, 0, 1, 0, 0, 1, 0, 0, 0],\n",
        "    [1, 0, 0, 0, 0, 1, 0, 0, 0, 0, 0, 0, 0, 0, 0, 0, 0, 0, 0],\n",
        "    [1, 0, 0, 0, 0, 0, 0, 1, 0, 0, 0, 0, 0, 0, 0, 0, 0, 1, 1, 0, 0, 0, 0, 0, 0, 0, 0, 0, 0, 0],\n",
        "    [],\n",
        "    [],\n",
        "    [1, 1, 0, 1, 1, 1],\n",
        "    [1, 1, 0, 1],\n",
        "    [1, 0, 0, 0, 1]\n",
        "]"
      ],
      "metadata": {
        "id": "-8X4L_9AnKgx"
      },
      "execution_count": null,
      "outputs": []
    },
    {
      "cell_type": "code",
      "source": [
        "chatgpt_answers += answers_31_40\n",
        "chatgpt_answers += answers_41_50\n",
        "chatgpt_answers += answers_51_60\n",
        "for i in range(11,11+60):\n",
        "    if len(test_data[i]['ner_tags']) != len(chatgpt_answers[i-11]):\n",
        "        print(i-10, len(test_data[i]['ner_tags']), len(chatgpt_answers[i-11]))\n",
        "        print(test_data[i]['ner_tags'])\n",
        "        print(chatgpt_answers[i-11])"
      ],
      "metadata": {
        "colab": {
          "base_uri": "https://localhost:8080/"
        },
        "id": "3Y9ktm5Lm8k5",
        "outputId": "e721400f-7e26-4292-8393-2c6afdd608ab"
      },
      "execution_count": null,
      "outputs": [
        {
          "output_type": "stream",
          "name": "stdout",
          "text": [
            "36 71 0\n",
            "[5, 0, 0, 0, 1, 2, 0, 0, 0, 1, 2, 0, 0, 0, 1, 2, 0, 0, 0, 1, 2, 0, 0, 0, 1, 2, 0, 0, 0, 1, 2, 0, 0, 0, 1, 2, 0, 0, 0, 1, 2, 0, 0, 0, 0, 0, 1, 2, 0, 0, 0, 1, 2, 0, 0, 0, 1, 2, 0, 0, 0, 1, 2, 0, 0, 0, 1, 2, 0, 0, 0]\n",
            "[]\n",
            "37 72 0\n",
            "[5, 0, 0, 0, 1, 2, 0, 0, 0, 1, 2, 0, 0, 0, 1, 2, 0, 0, 0, 1, 2, 0, 0, 0, 1, 2, 0, 0, 0, 1, 2, 0, 0, 0, 0, 0, 1, 2, 0, 0, 0, 1, 2, 0, 0, 0, 1, 2, 0, 0, 0, 1, 2, 2, 0, 0, 0, 1, 2, 0, 0, 0, 0, 0, 1, 2, 0, 0, 0, 1, 2, 0]\n",
            "[]\n"
          ]
        }
      ]
    },
    {
      "cell_type": "code",
      "source": [
        "def perf(y, y_pred):\n",
        "    print(\"Classification Report:\")\n",
        "    print(classification_report(y, y_pred, target_names=['O', 'B/I']))\n",
        "    precision = precision_score(y, y_pred, average='weighted')\n",
        "    recall = recall_score(y, y_pred, average='weighted')\n",
        "    f1 = f1_score(y, y_pred, average='weighted')\n",
        "\n",
        "    print(f\"Precision: {precision:.4f}\")\n",
        "    print(f\"Recall: {recall:.4f}\")\n",
        "    print(f\"F1 Score: {f1:.4f}\")\n",
        "    print()\n",
        "\n",
        "    # Plot confusion matrix\n",
        "    cm = confusion_matrix(y, y_pred)\n",
        "    disp = ConfusionMatrixDisplay(confusion_matrix=cm, display_labels=[\"O\", \"B/I\"])\n",
        "    disp.plot(cmap=\"Greys\")\n",
        "    plt.title(\"Confusion Matrix\")\n",
        "    plt.show()"
      ],
      "metadata": {
        "id": "QxRBL5MLZGvU"
      },
      "execution_count": null,
      "outputs": []
    },
    {
      "cell_type": "code",
      "source": [
        "for i in range(2,3):\n",
        "    if i == 46 or i == 47:\n",
        "        continue\n",
        "    correct_ner = test_data[i]['ner_tags']\n",
        "    correct_ner = [int(tag != 0) for tag in correct_ner]\n",
        "    sent = ' '.join(test_data[i]['tokens'])\n",
        "    svm_model = predictor.predict_single_sentence(sent)\n",
        "    svm_model = [int(tag != 'O') for _, tag in svm_model]\n",
        "    correct_ner_tag += correct_ner\n",
        "    svm_model_tag += svm_model\n",
        "    chatgpt_tag += chatgpt_answers[i-11]\n",
        "    print(sent)\n",
        "    print(\"CHATGPT: \", chatgpt_answers[i-11])\n",
        "    print(\"SVM: \", svm_model)\n",
        "    print(\"Correct: \", correct_ner)"
      ],
      "metadata": {
        "colab": {
          "base_uri": "https://localhost:8080/"
        },
        "id": "xFVYtRRJ1MkZ",
        "outputId": "2d7ea95b-d0f0-47f5-d905-091673e28c94"
      },
      "execution_count": null,
      "outputs": [
        {
          "output_type": "stream",
          "name": "stdout",
          "text": [
            "AL-AIN , United Arab Emirates 1996-12-06\n",
            "CHATGPT:  [0, 1, 1, 0, 1, 0, 0]\n",
            "SVM:  [1, 0, 1, 1, 1, 0]\n",
            "Correct:  [1, 0, 1, 1, 1, 0]\n"
          ]
        }
      ]
    },
    {
      "cell_type": "code",
      "source": [
        "correct_ner_tag = []\n",
        "svm_model_tag = []\n",
        "chatgpt_tag = []\n",
        "for i in range(11, 11+42):\n",
        "    if i == 46 or i == 47:\n",
        "        continue\n",
        "    correct_ner = test_data[i]['ner_tags']\n",
        "    correct_ner = [int(tag != 0) for tag in correct_ner]\n",
        "    sent = ' '.join(test_data[i]['tokens'])\n",
        "    svm_model = predictor.predict_single_sentence(sent)\n",
        "    svm_model = [int(tag != 'O') for _, tag in svm_model]\n",
        "    correct_ner_tag += correct_ner\n",
        "    svm_model_tag += svm_model\n",
        "    chatgpt_tag += chatgpt_answers[i-11]"
      ],
      "metadata": {
        "id": "MK9y4hvbXwNN"
      },
      "execution_count": null,
      "outputs": []
    },
    {
      "cell_type": "code",
      "source": [
        "perf(correct_ner_tag, svm_model_tag)"
      ],
      "metadata": {
        "colab": {
          "base_uri": "https://localhost:8080/",
          "height": 726
        },
        "id": "4R390YxHZMSb",
        "outputId": "002e38cc-aa13-401c-aa83-37a9556987a3"
      },
      "execution_count": null,
      "outputs": [
        {
          "output_type": "stream",
          "name": "stdout",
          "text": [
            "Classification Report:\n",
            "              precision    recall  f1-score   support\n",
            "\n",
            "           O       0.99      1.00      1.00       576\n",
            "         B/I       0.99      0.98      0.98       142\n",
            "\n",
            "    accuracy                           0.99       718\n",
            "   macro avg       0.99      0.99      0.99       718\n",
            "weighted avg       0.99      0.99      0.99       718\n",
            "\n",
            "Precision: 0.9930\n",
            "Recall: 0.9930\n",
            "F1 Score: 0.9930\n",
            "\n"
          ]
        },
        {
          "output_type": "display_data",
          "data": {
            "text/plain": [
              "<Figure size 640x480 with 2 Axes>"
            ],
            "image/png": "[encoded data removed]"
          },
          "metadata": {}
        }
      ]
    },
    {
      "cell_type": "code",
      "source": [
        "perf(correct_ner_tag, chatgpt_tag)"
      ],
      "metadata": {
        "colab": {
          "base_uri": "https://localhost:8080/",
          "height": 726
        },
        "id": "uxu3o_BNaJzs",
        "outputId": "bcba17c6-287b-4105-f17e-2bb755c28975"
      },
      "execution_count": null,
      "outputs": [
        {
          "output_type": "stream",
          "name": "stdout",
          "text": [
            "Classification Report:\n",
            "              precision    recall  f1-score   support\n",
            "\n",
            "           O       0.98      0.89      0.94       576\n",
            "         B/I       0.68      0.94      0.79       142\n",
            "\n",
            "    accuracy                           0.90       718\n",
            "   macro avg       0.83      0.91      0.86       718\n",
            "weighted avg       0.92      0.90      0.91       718\n",
            "\n",
            "Precision: 0.9233\n",
            "Recall: 0.9011\n",
            "F1 Score: 0.9065\n",
            "\n"
          ]
        },
        {
          "output_type": "display_data",
          "data": {
            "text/plain": [
              "<Figure size 640x480 with 2 Axes>"
            ],
            "image/png": "[encoded data removed]"
          },
          "metadata": {}
        }
      ]
    },
    {
      "cell_type": "code",
      "source": [
        "chatgpt_answer_train = [\n",
        "    [1, 0, 1, 0, 0, 0, 1, 0, 0],\n",
        "    [1, 1],\n",
        "    [1, 0],\n",
        "    [0, 1, 1, 0, 0, 0, 0, 0, 0, 1, 0, 0, 0, 0, 1, 0, 0, 0, 0, 0, 0, 0, 0, 0, 0, 0, 0, 0, 0, 0],\n",
        "    [0, 0, 0, 0, 0, 0, 0, 0, 0, 0, 0, 0, 0, 0, 0, 0, 0, 0, 0, 0, 0, 0, 1, 1, 0],\n",
        "    [0, 0, 0, 0, 0, 0, 0, 1, 0, 0, 1, 1, 0, 0, 0, 0, 0, 0, 0, 0, 0, 0, 0, 0, 0, 0, 0, 0, 0, 0, 0, 0, 0, 0, 0, 0, 0, 0, 0, 0],\n",
        "    [1, 0, 1, 0, 0, 0, 0, 1, 0, 1, 0, 0, 0, 0, 0, 0, 0, 1, 1, 1, 0, 1, 0, 0, 0, 0, 0, 0],\n",
        "    [0, 1, 0, 0, 0, 0, 0, 0, 0, 1, 0, 0, 0, 0, 0, 0, 0, 0, 0, 0, 0, 0, 0, 0, 0, 0, 0, 0, 0, 0, 0, 0, 0, 0, 0, 0, 0],\n",
        "    [1, 0, 0, 1, 0, 1, 0, 0, 0, 1, 0, 0, 1, 0, 0, 0, 0, 0, 0, 0, 0, 0, 0, 0, 0, 0, 0],\n",
        "    [0],\n",
        "    [0, 1, 0, 1, 0, 1, 0, 0, 0],\n",
        "    [0, 1, 0, 0, 0, 0, 0, 0, 0, 0, 0, 0, 0, 0, 0, 0, 0, 0, 0, 0, 0, 0, 0, 0, 0, 0],\n",
        "    [0, 0, 0, 0, 0, 0, 0, 0, 0, 0, 0, 0, 0, 0, 1, 0, 0, 0, 0, 0, 0, 0, 0, 0, 0, 0, 0, 0, 0, 0],\n",
        "    [1, 0, 0, 0, 0, 1, 0, 0, 0, 0, 0, 0, 0, 0, 0],\n",
        "    [0, 0, 0, 0, 0, 0, 1, 0, 0, 0, 0, 0, 0, 0, 0, 0],\n",
        "    [0, 1, 0, 0, 0, 0, 0, 0, 0, 0],\n",
        "    [1, 0],\n",
        "    [0, 0, 0, 0, 0, 0, 0, 0, 0, 1, 0, 0, 1, 1, 0, 0, 0, 0, 0, 0, 0, 0, 0, 0, 0, 0, 0, 0, 0, 0, 0, 0, 0, 0, 0],\n",
        "    [0, 1, 0, 0, 0, 0, 0, 0, 0, 0, 0, 0, 0, 0, 0, 1, 0, 0, 0, 0, 0, 0, 1, 0, 0, 0, 0, 0, 1, 0, 0, 0, 0, 0, 0],\n",
        "    [0, 0, 0, 0, 0, 1, 1, 0, 0, 0, 1, 0, 0, 1, 0, 0, 0, 0, 0, 0, 0, 0, 0, 0, 0, 0, 0, 0, 0, 0, 0, 0],\n",
        "    [0, 0, 0, 0, 0, 0, 0, 0, 1, 0, 1, 0],\n",
        "    [1, 0, 1, 0, 0, 0, 0, 0],\n",
        "    [1,0],\n",
        "    [1, 0, 0, 0, 1, 0, 0, 0, 0, 0, 0, 0, 0, 0, 0, 0, 1, 1, 0, 0, 0, 0, 1, 0, 1, 0, 1, 1, 0, 0, 0, 0, 1, 0, 0],\n",
        "    [0, 0, 0, 0, 0, 0, 0, 0, 0, 0, 0, 0, 0, 0, 0],\n",
        "    [0, 0, 0, 0, 1, 0, 1, 1, 0, 0, 0, 0, 0, 0, 0, 0, 1, 0, 0, 0, 0, 0, 0, 0, 0, 0, 0, 0, 0, 0, 0, 0, 1, 0, 1, 0, 0, 0, 0, 0, 0, 0, 0, 0],\n",
        "    [1, 0, 0, 0, 0, 1, 0, 0],\n",
        "    [1,0],\n",
        "    [1, 0, 0, 0, 0, 0, 0, 0, 0, 0, 1, 0, 0, 0, 0, 0, 0, 0, 0, 0, 0, 0, 0, 0],\n",
        "    [1, 1, 0, 0, 0, 0, 0, 0, 0, 0, 0]\n",
        "]"
      ],
      "metadata": {
        "id": "2jvVXBaLnsx3"
      },
      "execution_count": null,
      "outputs": []
    },
    {
      "cell_type": "code",
      "source": [
        "sentences = [\n",
        "    ['EU', 'rejects', 'German', 'call', 'to', 'boycott', 'British', 'lamb', '.'],\n",
        "    ['Peter', 'Blackburn'],\n",
        "    ['BRUSSELS', '1996-08-22'],\n",
        "    ['The', 'European', 'Commission', 'said', 'on', 'Thursday', 'it', 'disagreed', 'with', 'German', 'advice', 'to', 'consumers', 'to', 'shun', 'British', 'lamb', 'until', 'scientists', 'determine', 'whether', 'mad', 'cow', 'disease', 'can', 'be', 'transmitted', 'to', 'sheep', '.'],\n",
        "    ['He', 'said', 'further', 'scientific', 'study', 'was', 'required', 'and', 'if', 'it', 'was', 'found', 'that', 'action', 'was', 'needed', 'it', 'should', 'be', 'taken', 'by', 'the', 'European', 'Union', '.'],\n",
        "    ['He', 'said', 'a', 'proposal', 'last', 'month', 'by', 'EU', 'Farm', 'Commissioner', 'Franz', 'Fischler', 'to', 'ban', 'sheep', 'brains', ',', 'spleens', 'and', 'spinal', 'cords', 'from', 'the', 'human', 'and', 'animal', 'food', 'chains', 'was', 'a', 'highly', 'specific', 'and', 'precautionary', 'move', 'to', 'protect', 'human', 'health', '.'],\n",
        "    ['Fischler', 'proposed', 'EU-wide', 'measures', 'after', 'reports', 'from', 'Britain', 'and', 'France', 'that', 'under', 'laboratory', 'conditions', 'sheep', 'could', 'contract', 'Bovine', 'Spongiform', 'Encephalopathy', '(', 'BSE', ')', '--', 'mad', 'cow', 'disease', '.'],\n",
        "    ['But', 'Fischler', 'agreed', 'to', 'review', 'his', 'proposal', 'after', 'the', 'EU', \"'s\", 'standing', 'veterinary', 'committee', ',', 'mational', 'animal', 'health', 'officials', ',', 'questioned', 'if', 'such', 'action', 'was', 'justified', 'as', 'there', 'was', 'only', 'a', 'slight', 'risk', 'to', 'human', 'health', '.'],\n",
        "    ['Spanish', 'Farm', 'Minister', 'Loyola', 'de', 'Palacio', 'had', 'earlier', 'accused', 'Fischler', 'at', 'an', 'EU', 'farm', 'ministers', \"'\", 'meeting', 'of', 'causing', 'unjustified', 'alarm', 'through', '\"', 'dangerous', 'generalisation', '.', '\"'],\n",
        "    ['.'],\n",
        "    ['Only', 'France', 'and', 'Britain', 'backed', 'Fischler', \"'s\", 'proposal', '.'],\n",
        "    ['The', 'EU', \"'s\", 'scientific', 'veterinary', 'and', 'multidisciplinary', 'committees', 'are', 'due', 'to', 're-examine', 'the', 'issue', 'early', 'next', 'month', 'and', 'make', 'recommendations', 'to', 'the', 'senior', 'veterinary', 'officials', '.'],\n",
        "    ['Sheep', 'have', 'long', 'been', 'known', 'to', 'contract', 'scrapie', ',', 'a', 'brain-wasting', 'disease', 'similar', 'to', 'BSE', 'which', 'is', 'believed', 'to', 'have', 'been', 'transferred', 'to', 'cattle', 'through', 'feed', 'containing', 'animal', 'waste', '.'],\n",
        "    ['Germany', 'imported', '47,600', 'sheep', 'from', 'Britain', 'last', 'year', ',', 'nearly', 'half', 'of', 'total', 'imports', '.'],\n",
        "    ['It', 'brought', 'in', '4,275', 'tonnes', 'of', 'British', 'mutton', ',', 'some', '10', 'percent', 'of', 'overall', 'imports', '.'],\n",
        "    ['Rare', 'Hendrix', 'song', 'draft', 'sells', 'for', 'almost', '$', '17,000', '.'],\n",
        "    ['LONDON', '1996-08-22'],\n",
        "    ['A', 'rare', 'early', 'handwritten', 'draft', 'of', 'a', 'song', 'by', 'U.S.', 'guitar', 'legend', 'Jimi', 'Hendrix', 'was', 'sold', 'for', 'almost', '$', '17,000', 'on', 'Thursday', 'at', 'an', 'auction', 'of', 'some', 'of', 'the', 'late', 'musician', \"'s\", 'favourite', 'possessions', '.'],\n",
        "    ['A', 'Florida', 'restaurant', 'paid', '10,925', 'pounds', '(', '$', '16,935', ')', 'for', 'the', 'draft', 'of', '\"', 'Ai', \"n't\", 'no', 'telling', '\"', ',', 'which', 'Hendrix', 'penned', 'on', 'a', 'piece', 'of', 'London', 'hotel', 'stationery', 'in', 'late', '1966', '.'],\n",
        "    ['At', 'the', 'end', 'of', 'a', 'January', '1967', 'concert', 'in', 'the', 'English', 'city', 'of', 'Nottingham', 'he', 'threw', 'the', 'sheet', 'of', 'paper', 'into', 'the', 'audience', ',', 'where', 'it', 'was', 'retrieved', 'by', 'a', 'fan', '.'],\n",
        "    ['The', 'guitarist', 'died', 'of', 'a', 'drugs', 'overdose', 'in', '1970', 'aged', '27', '.'],\n",
        "    ['China', 'says', 'Taiwan', 'spoils', 'atmosphere', 'for', 'talks', '.'],\n",
        "    ['BEIJING', '1996-08-22'],\n",
        "    ['China', 'on', 'Thursday', 'accused', 'Taipei', 'of', 'spoiling', 'the', 'atmosphere', 'for', 'a', 'resumption', 'of', 'talks', 'across', 'the', 'Taiwan', 'Strait', 'with', 'a', 'visit', 'to', 'Ukraine', 'by', 'Taiwanese', 'Vice', 'President', 'Lien', 'Chan', 'this', 'week', 'that', 'infuriated', 'Beijing', '.'],\n",
        "    ['\"', 'Now', 'is', 'the', 'time', 'for', 'the', 'two', 'sides', 'to', 'engage', 'in', 'political', 'talks', '...'],\n",
        "    ['The', 'foreign', 'ministry', \"'s\", 'Shen', 'told', 'Reuters', 'Television', 'in', 'an', 'interview', 'he', 'had', 'read', 'reports', 'of', 'Tang', \"'s\", 'comments', 'but', 'gave', 'no', 'details', 'of', 'why', 'the', 'negotiator', 'had', 'considered', 'the', 'time', 'right', 'for', 'talks', 'with', 'Taiwan', ',', 'which', 'Beijing', 'considers', 'a', 'renegade', 'province', '.'],\n",
        "    ['China', 'says', 'time', 'right', 'for', 'Taiwan', 'talks', '.'],\n",
        "    ['BEIJING', '1996-08-22'],\n",
        "    ['China', 'has', 'said', 'it', 'was', 'time', 'for', 'political', 'talks', 'with', 'Taiwan', 'and', 'that', 'the', 'rival', 'island', 'should', 'take', 'practical', 'steps', 'towards', 'that', 'goal', '.'],\n",
        "    ['German', 'July', 'car', 'registrations', 'up', '14.2', 'pct', 'yr', '/', 'yr', '.']\n",
        "]"
      ],
      "metadata": {
        "id": "RSskwd5zoBe1"
      },
      "execution_count": null,
      "outputs": []
    },
    {
      "cell_type": "code",
      "source": [
        "dataset_answer = [\n",
        "    [1, 0, 1, 0, 0, 0, 1, 0, 0],\n",
        "    [1, 1],\n",
        "    [1, 0],\n",
        "    [0, 1, 1, 0, 0, 0, 0, 0, 0, 1, 0, 0, 0, 0, 0, 1, 0, 0, 0, 0, 0, 0, 0, 0, 0, 0, 0, 0, 0, 0],\n",
        "    [0, 0, 0, 0, 0, 0, 0, 0, 0, 0, 0, 0, 0, 0, 0, 0, 0, 0, 0, 0, 0, 0, 1, 1, 0],\n",
        "    [0, 0, 0, 0, 0, 0, 0, 1, 0, 0, 1, 1, 0, 0, 0, 0, 0, 0, 0, 0, 0, 0, 0, 0, 0, 0, 0, 0, 0, 0, 0, 0, 0, 0, 0, 0, 0, 0, 0, 0],\n",
        "    [1, 0, 1, 0, 0, 0, 0, 1, 0, 1, 0, 0, 0, 0, 0, 0, 0, 1, 1, 1, 0, 1, 0, 0, 0, 0, 0, 0],\n",
        "    [0, 1, 0, 0, 0, 0, 0, 0, 0, 1, 0, 0, 0, 0, 0, 0, 0, 0, 0, 0, 0, 0, 0, 0, 0, 0, 0, 0, 0, 0, 0, 0, 0, 0, 0, 0, 0],\n",
        "    [1, 0, 0, 1, 1, 1, 0, 0, 0, 1, 0, 0, 1, 0, 0, 0, 0, 0, 0, 0, 0, 0, 0, 0, 0, 0, 0],\n",
        "    [0],\n",
        "    [0, 1, 0, 1, 0, 1, 0, 0, 0],\n",
        "    [0, 1, 0, 0, 0, 0, 0, 0, 0, 0, 0, 0, 0, 0, 0, 0, 0, 0, 0, 0, 0, 0, 0, 0, 0, 0],\n",
        "    [0, 0, 0, 0, 0, 0, 0, 0, 0, 0, 0, 0, 0, 0, 1, 0, 0, 0, 0, 0, 0, 0, 0, 0, 0, 0, 0, 0, 0, 0],\n",
        "    [1, 0, 0, 0, 0, 1, 0, 0, 0, 0, 0, 0, 0, 0, 0],\n",
        "    [0, 0, 0, 0, 0, 0, 1, 0, 0, 0, 0, 0, 0, 0, 0, 0],\n",
        "    [0, 1, 0, 0, 0, 0, 0, 0, 0, 0],\n",
        "    [1, 0],\n",
        "    [0, 0, 0, 0, 0, 0, 0, 0, 0, 1, 0, 0, 1, 1, 0, 0, 0, 0, 0, 0, 0, 0, 0, 0, 0, 0, 0, 0, 0, 0, 0, 0, 0, 0, 0],\n",
        "    [0, 1, 0, 0, 0, 0, 0, 0, 0, 0, 0, 0, 0, 0, 0, 1, 1, 1, 1, 0, 0, 0, 1, 0, 0, 0, 0, 0, 1, 0, 0, 0, 0, 0, 0],\n",
        "    [0, 0, 0, 0, 0, 0, 0, 0, 0, 0, 1, 0, 0, 1, 0, 0, 0, 0, 0, 0, 0, 0, 0, 0, 0, 0, 0, 0, 0, 0, 0, 0],\n",
        "    [0, 0, 0, 0, 0, 0, 0, 0, 0, 0, 0, 0],\n",
        "    [1, 0, 1, 0, 0, 0, 0, 0],\n",
        "    [1,0],\n",
        "    [1, 0, 0, 0, 1, 0, 0, 0, 0, 0, 0, 0, 0, 0, 0, 0, 1, 1, 0, 0, 0, 0, 1, 0, 1, 0, 0, 1, 1, 0, 0, 0, 0, 1, 0],\n",
        "    [0, 0, 0, 0, 0, 0, 0, 0, 0, 0, 0, 0, 0, 0, 0],\n",
        "    [0, 0, 0, 0, 1, 0, 1, 1, 0, 0, 0, 0, 0, 0, 0, 0, 1, 0, 0, 0, 0, 0, 0, 0, 0, 0, 0, 0, 0, 0, 0, 0, 0, 0, 0, 1, 0, 0, 1, 0, 0, 0, 0, 0],\n",
        "    [1, 0, 0, 0, 0, 1, 0, 0],\n",
        "    [1,0],\n",
        "    [1, 0, 0, 0, 0, 0, 0, 0, 0, 0, 1, 0, 0, 0, 0, 0, 0, 0, 0, 0, 0, 0, 0, 0],\n",
        "    [1, 0, 0, 0, 0, 0, 0, 0, 0, 0, 0]\n",
        "]"
      ],
      "metadata": {
        "id": "k45fcSPJoH1X"
      },
      "execution_count": null,
      "outputs": []
    },
    {
      "cell_type": "code",
      "source": [
        "for i in range(len(sentences)):\n",
        "    svm_model = predictor.predict_single_sentence(' '.join(sentences[i]))\n",
        "    svm_model = [int(tag != 'O') for _, tag in svm_model]\n",
        "    svm_model_tag += svm_model\n",
        "    chatgpt_tag += chatgpt_answer_train[i]\n",
        "    correct_ner_tag += dataset_answer[i]"
      ],
      "metadata": {
        "id": "12BXPL1eoKBp"
      },
      "execution_count": null,
      "outputs": []
    },
    {
      "cell_type": "code",
      "source": [
        "perf(correct_ner_tag, chatgpt_tag)"
      ],
      "metadata": {
        "colab": {
          "base_uri": "https://localhost:8080/",
          "height": 726
        },
        "id": "aZQvVqRrofFy",
        "outputId": "cad6f86b-373d-452e-c328-a6e3a011a72f"
      },
      "execution_count": null,
      "outputs": [
        {
          "output_type": "stream",
          "name": "stdout",
          "text": [
            "Classification Report:\n",
            "              precision    recall  f1-score   support\n",
            "\n",
            "           O       0.98      0.93      0.96      1071\n",
            "         B/I       0.74      0.92      0.82       219\n",
            "\n",
            "    accuracy                           0.93      1290\n",
            "   macro avg       0.86      0.93      0.89      1290\n",
            "weighted avg       0.94      0.93      0.93      1290\n",
            "\n",
            "Precision: 0.9405\n",
            "Recall: 0.9302\n",
            "F1 Score: 0.9332\n",
            "\n"
          ]
        },
        {
          "output_type": "display_data",
          "data": {
            "text/plain": [
              "<Figure size 640x480 with 2 Axes>"
            ],
            "image/png": "[encoded data removed]"
          },
          "metadata": {}
        }
      ]
    },
    {
      "cell_type": "code",
      "source": [
        "perf(correct_ner_tag, svm_model_tag)"
      ],
      "metadata": {
        "colab": {
          "base_uri": "https://localhost:8080/",
          "height": 726
        },
        "id": "acp8qf-JtajT",
        "outputId": "80423720-a095-4753-b0de-eb73d37a68b3"
      },
      "execution_count": null,
      "outputs": [
        {
          "output_type": "stream",
          "name": "stdout",
          "text": [
            "Classification Report:\n",
            "              precision    recall  f1-score   support\n",
            "\n",
            "           O       1.00      1.00      1.00      1071\n",
            "         B/I       0.99      0.98      0.99       219\n",
            "\n",
            "    accuracy                           1.00      1290\n",
            "   macro avg       0.99      0.99      0.99      1290\n",
            "weighted avg       1.00      1.00      1.00      1290\n",
            "\n",
            "Precision: 0.9953\n",
            "Recall: 0.9953\n",
            "F1 Score: 0.9953\n",
            "\n"
          ]
        },
        {
          "output_type": "display_data",
          "data": {
            "text/plain": [
              "<Figure size 640x480 with 2 Axes>"
            ],
            "image/png": "[encoded data removed]"
          },
          "metadata": {}
        }
      ]
    }
  ]
}